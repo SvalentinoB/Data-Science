{
 "cells": [
  {
   "cell_type": "markdown",
   "id": "424fa0a6-8dc7-444c-afd6-95a1f6adc139",
   "metadata": {},
   "source": [
    "# Data Science Tools and Ecosystem"
   ]
  },
  {
   "cell_type": "markdown",
   "id": "5d831570-853e-4555-b029-b5ebe98f2197",
   "metadata": {},
   "source": [
    "#### In this notebook, Data Science Tools and Ecosystem are summarized."
   ]
  },
  {
   "cell_type": "markdown",
   "id": "e80ea18b-4392-4476-9e51-81681a99af86",
   "metadata": {},
   "source": [
    "**Objectives:**\n",
    "- List popular languages for Data Science\n",
    "- Understand basic data analysis concepts\n",
    "- Explore Python librares for Data Science\n",
    "- Learn how to manipulate date using pandas\n",
    "- Perform data visualisation using Matplotlib"
   ]
  },
  {
   "cell_type": "markdown",
   "id": "aae52a9e-b2e0-4f3f-92a1-d0a97502be6b",
   "metadata": {},
   "source": [
    "**Some of the popular languages that Data Scientists use are:**\r\n"
   ]
  },
  {
   "cell_type": "markdown",
   "id": "1152fc65-b303-4aa8-806b-0eaf88efdd33",
   "metadata": {},
   "source": [
    "    1. Python\n",
    "    2. Scala\n",
    "    3. R"
   ]
  },
  {
   "cell_type": "markdown",
   "id": "3c91536a-1844-47af-ac0a-f3c4a4b62ce0",
   "metadata": {},
   "source": [
    "**Some of the commonly used libraries used by Data Scientists include:**"
   ]
  },
  {
   "cell_type": "markdown",
   "id": "3b8d0281-d4ad-42a6-a904-56df6084ecb8",
   "metadata": {},
   "source": [
    "    1. Pandas\n",
    "    2. NumPy\n",
    "    3. Matplotlib\n",
    "    4. Scikit-learn"
   ]
  },
  {
   "cell_type": "markdown",
   "id": "3923d4ff-4e94-4f91-a368-23142857848d",
   "metadata": {},
   "source": [
    "| Data Science Tools            |\n",
    "|-------------------------------|\n",
    "| Jupiter Notebook              |\n",
    "| RStudio                       |\n",
    "| Apache Zeppelin               |"
   ]
  },
  {
   "cell_type": "markdown",
   "id": "a8441640-37fa-43a9-b7c8-213ec4ca0532",
   "metadata": {},
   "source": [
    "### Below are a few examples of evaluating arithmetic expressions in Python.\r\n"
   ]
  },
  {
   "cell_type": "code",
   "execution_count": 3,
   "id": "be3b474b-f8fc-4982-ba90-11e44998976f",
   "metadata": {},
   "outputs": [
    {
     "data": {
      "text/plain": [
       "17"
      ]
     },
     "execution_count": 3,
     "metadata": {},
     "output_type": "execute_result"
    }
   ],
   "source": [
    "    #This a simple arithmetic expression to mutiply then add integers\n",
    "    (3*4)+5"
   ]
  },
  {
   "cell_type": "code",
   "execution_count": 4,
   "id": "d4a45f4c-3424-4797-8c91-90349b4e0820",
   "metadata": {},
   "outputs": [
    {
     "data": {
      "text/plain": [
       "3.3333333333333335"
      ]
     },
     "execution_count": 4,
     "metadata": {},
     "output_type": "execute_result"
    }
   ],
   "source": [
    "#This will convert 200 minutes to hours by diving by 60\n",
    "minutes = 200\n",
    "hours = minutes / 60\n",
    "hours"
   ]
  },
  {
   "cell_type": "markdown",
   "id": "1ea5d39b-5174-4b21-b6f5-520f55a9c38c",
   "metadata": {},
   "source": [
    "## Author\n",
    "Valentin Sianskyi"
   ]
  },
  {
   "cell_type": "code",
   "execution_count": null,
   "id": "06997ced-1721-4bea-b185-f10aa20b2605",
   "metadata": {},
   "outputs": [],
   "source": []
  }
 ],
 "metadata": {
  "kernelspec": {
   "display_name": "Python 3 (ipykernel)",
   "language": "python",
   "name": "python3"
  },
  "language_info": {
   "codemirror_mode": {
    "name": "ipython",
    "version": 3
   },
   "file_extension": ".py",
   "mimetype": "text/x-python",
   "name": "python",
   "nbconvert_exporter": "python",
   "pygments_lexer": "ipython3",
   "version": "3.11.7"
  }
 },
 "nbformat": 4,
 "nbformat_minor": 5
}
